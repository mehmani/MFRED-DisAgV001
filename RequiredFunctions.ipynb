{
 "cells": [
  {
   "cell_type": "code",
   "execution_count": 1,
   "metadata": {},
   "outputs": [],
   "source": [
    "%run load_data.py\n",
    "%run ConvNNParallelSeq\n",
    "%run ConvNNSeq\n",
    "%run ConvNNLSTMSeq\n",
    "%run create_model_1.py\n",
    "%run create_2_conv_model.py\n",
    "%run create_model_3.py\n",
    "%run create_fit_predict.py\n",
    "%run plot_losses.py\n",
    "%run scores.py\n",
    "%run load_data_sequence\n",
    "%run scores_sequence\n",
    "%run plot_seq\n",
    "%run score_sequence_other\n",
    "%run predict_and_evaluate_sequences\n",
    "%run create_fit_predict_seq\n",
    "%run reshape_y\n",
    "%run DAutoEncoder\n",
    "%run DAutoEncoderLSTM\n",
    "%run ConvNNParallelLSTMSeq\n",
    "%run ConvNN"
   ]
  },
  {
   "cell_type": "code",
   "execution_count": null,
   "metadata": {},
   "outputs": [],
   "source": []
  }
 ],
 "metadata": {
  "kernelspec": {
   "display_name": "Python 3",
   "language": "python",
   "name": "python3"
  },
  "language_info": {
   "codemirror_mode": {
    "name": "ipython",
    "version": 3
   },
   "file_extension": ".py",
   "mimetype": "text/x-python",
   "name": "python",
   "nbconvert_exporter": "python",
   "pygments_lexer": "ipython3",
   "version": "3.5.4"
  }
 },
 "nbformat": 4,
 "nbformat_minor": 2
}
